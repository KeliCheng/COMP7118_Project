{
 "cells": [
  {
   "cell_type": "markdown",
   "metadata": {},
   "source": [
    "# COMP 7118 Assignment 5\n",
    "## Due date: 11/15/2018\n",
    "\n",
    "Khan Mohammad Al Farabi"
   ]
  },
  {
   "cell_type": "raw",
   "metadata": {},
   "source": [
    "Create a Dash app, called Seven Questions.  Basically, this app asks a user seven sequential questions.  In each question, a user is asked to rate a movie.  The answer to each question should be used to determined the next movie.\n"
   ]
  },
  {
   "cell_type": "markdown",
   "metadata": {},
   "source": [
    "1. (40 points)  Create a Python function that appends a new entry to the table \"rating\" (ratings.csv) in the Movie Lens dataset.  This table has 4 columns: userId, movieId, rating, and timestamp. You should use Pandas to do this.\n"
   ]
  },
  {
   "cell_type": "code",
   "execution_count": null,
   "metadata": {},
   "outputs": [],
   "source": [
    "In solution I have generated function def new_user_input(id1) in New_User_7_Question_Query.py which takes 7 input from new user for 7 movies. After entering each\n",
    "movie rating the next movie  is chosen based on previous rating given by the user.In oroder to Run the Program the capital S has\n",
    "to be pressed. To stop the program capital T should be pressed. After getting the 7 movie rating from the user rating.csv file\n",
    "is updated each time with the user's information.Here in mail rating.csv file the last user id is 610. After adding news user\n",
    "new user id 611  and its corresponding information are appended in file ratings.csv. I have used pandas in New_User_7_Question_Query.py to read file\n",
    "In addition, in New_User_7_Question_Query_update.py I have appended information of new user using pandas and save the whole updated information\n",
    "in  renamed file rating_update.csv file just to show the appended data of the new user using pandas. In adition the updated (after appending) will\n",
    "be printed once the program is run. "
   ]
  },
  {
   "cell_type": "markdown",
   "metadata": {},
   "source": [
    "2. (30 points) Create a Dash app that shows a random movie to a user and asks him/her to rate it."
   ]
  },
  {
   "cell_type": "code",
   "execution_count": null,
   "metadata": {},
   "outputs": [],
   "source": [
    "In this Solution I have created Dash app where two dropdown  Box is created one for movie name and another for rating. The new usre\n",
    "will choose the movie and corresponding rating. The movie name with rating will be printed in the page."
   ]
  },
  {
   "cell_type": "markdown",
   "metadata": {},
   "source": [
    "3. (30 points) Based on the user's rating to already-asked questions, find another user, say John, with similar profile, pick a movie that John likes and the user hasn't seen yet.  Recommend that movie."
   ]
  },
  {
   "cell_type": "code",
   "execution_count": null,
   "metadata": {},
   "outputs": [],
   "source": [
    "In order to run the program you have to press capital S and  after pressing S enter capital Z to show the recommended movie for \n",
    "the new user. Here like problem a the new user has to give 7 movie rating(where choosing next movie depends on the previous movie rating\n",
    "    given by the user) and the similar user is chosen which has same movie list like new user and the recommended movies are\n",
    "those movies which are not yet rated or seen by new user but the similar user has liked or rated. Here I have saved the original\n",
    "ratings.csv as ratings_recommend.csv and use  renamed ratings_recommend for this problem."
   ]
  },
  {
   "cell_type": "code",
   "execution_count": null,
   "metadata": {},
   "outputs": [],
   "source": [
    "Note: In my windows system it took 12-15 minutes to take input from user after running the program. Probably due to large data set it took time."
   ]
  }
 ],
 "metadata": {
  "kernelspec": {
   "display_name": "Python 3",
   "language": "python",
   "name": "python3"
  },
  "language_info": {
   "codemirror_mode": {
    "name": "ipython",
    "version": 3
   },
   "file_extension": ".py",
   "mimetype": "text/x-python",
   "name": "python",
   "nbconvert_exporter": "python",
   "pygments_lexer": "ipython3",
   "version": "3.6.6"
  }
 },
 "nbformat": 4,
 "nbformat_minor": 2
}
